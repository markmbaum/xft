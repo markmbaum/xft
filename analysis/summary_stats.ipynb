{
 "cells": [
  {
   "cell_type": "markdown",
   "metadata": {},
   "source": [
    "# Summary Stats"
   ]
  },
  {
   "cell_type": "code",
   "execution_count": null,
   "metadata": {},
   "outputs": [],
   "source": [
    "from os import makedirs\n",
    "from os.path import join, isdir\n",
    "import numpy as np\n",
    "import pandas as pd"
   ]
  },
  {
   "cell_type": "code",
   "execution_count": null,
   "metadata": {},
   "outputs": [],
   "source": [
    "import matplotlib.pyplot as plt\n",
    "import seaborn as sns\n",
    "import markplotlib"
   ]
  },
  {
   "cell_type": "code",
   "execution_count": null,
   "metadata": {},
   "outputs": [],
   "source": [
    "from modules import load_xft"
   ]
  },
  {
   "cell_type": "markdown",
   "metadata": {},
   "source": [
    "## load data"
   ]
  },
  {
   "cell_type": "code",
   "execution_count": null,
   "metadata": {},
   "outputs": [],
   "source": [
    "cleandir = join(\"..\", \"data\", \"clean\")\n",
    "plotdir = join(\"..\", \"plots\", \"score-modeling\")"
   ]
  },
  {
   "cell_type": "code",
   "execution_count": null,
   "metadata": {},
   "outputs": [],
   "source": [
    "xft = load_xft.load_competition_results(\n",
    "    join(cleandir, \"competition_results.parquet\"), 500\n",
    ")\n",
    "xft.drop(columns=[\"gender\"], inplace=True)\n",
    "xft.sort_index(inplace=True)\n",
    "xft.sample(10)"
   ]
  },
  {
   "cell_type": "markdown",
   "metadata": {},
   "source": [
    "## summaries"
   ]
  },
  {
   "cell_type": "code",
   "execution_count": null,
   "metadata": {},
   "outputs": [],
   "source": [
    "df = xft[[\"height\", \"weight\", \"age\", \"overallRank\"]].loc[:, :, 1]\n",
    "df = df.loc[:, :, pd.IndexSlice[[\"Men\", \"Women\"]]]\n",
    "df"
   ]
  },
  {
   "cell_type": "code",
   "execution_count": null,
   "metadata": {},
   "outputs": [],
   "source": [
    "g = df.groupby(level=[0, 1, 2])\n",
    "top = pd.concat(\n",
    "    {\n",
    "        n: g.apply(lambda x: x.sort_values(\"overallRank\").iloc[:n].mean())\n",
    "        for n in [5, 10, 20, 50, 100, 500]\n",
    "    },\n",
    "    names=[\"top\"],\n",
    ")\n",
    "top[\"height\"] *= 3.28\n",
    "top[\"weight\"] *= 2.2\n",
    "top.index = top.index.set_levels(top.index.levels[0].astype(str), level=0)\n",
    "top"
   ]
  },
  {
   "cell_type": "code",
   "execution_count": null,
   "metadata": {},
   "outputs": [],
   "source": [
    "fig, ax = plt.subplots()\n",
    "comp = \"games\"\n",
    "division = \"Women\"\n",
    "target = \"weight\"\n",
    "tops = pd.IndexSlice[[\"5\", \"10\", \"20\"]]\n",
    "palette = \"Oranges\"\n",
    "sns.lineplot(\n",
    "    data=top.loc[tops, :, comp, division].reset_index(),\n",
    "    x=\"year\",\n",
    "    y=target,\n",
    "    hue=\"top\",\n",
    "    linewidth=1.5,\n",
    "    palette=palette,\n",
    "    ax=ax,\n",
    ")\n",
    "ax.set_title(\n",
    "    f\"Average {target.title()} of Top {division.title()}'s {comp.title()} Finishers\"\n",
    ")\n",
    "ax.legend(loc=\"center left\", bbox_to_anchor=(1, 0.5), title=\"Top Athletes\")\n",
    "ax.set_xticklabels([str(int(x)) for x in ax.get_xticks()])\n",
    "fig.tight_layout()"
   ]
  }
 ],
 "metadata": {
  "kernelspec": {
   "display_name": "xft-AIzqpCa0-py3.12",
   "language": "python",
   "name": "python3"
  },
  "language_info": {
   "codemirror_mode": {
    "name": "ipython",
    "version": 3
   },
   "file_extension": ".py",
   "mimetype": "text/x-python",
   "name": "python",
   "nbconvert_exporter": "python",
   "pygments_lexer": "ipython3",
   "version": "3.12.0"
  }
 },
 "nbformat": 4,
 "nbformat_minor": 2
}
